{
 "cells": [
  {
   "cell_type": "code",
   "execution_count": 15,
   "metadata": {},
   "outputs": [],
   "source": [
    "# -*- coding: utf-8 -*-\n",
    "### Required libraries ------------------------------------------\n",
    "import numpy as np\n",
    "import os\n",
    "import pandas as pd\n",
    "from pandas import Series\n",
    "\n",
    "# column 다 보이기\n",
    "pd.set_option('display.max_columns', None)\n",
    "#(참고) warning 제거를 위한 코드\n",
    "#np.seterr(divide='ignore', invalid='ignore')\n",
    "\n",
    "### Visualization libraries -------------------------------------\n",
    "import seaborn as sns\n",
    "color = sns.color_palette()\n",
    "sns.set_style('darkgrid')\n",
    "import matplotlib.pyplot as plt\n",
    "# % matplotlib inline\n",
    "\n",
    "plt.rcParams[\"figure.figsize\"] = (7,6)  # 크기 (inch)\n",
    "plt.rcParams['axes.grid'] = True        # 격자선 여부\n",
    "plt.rcParams['lines.linewidth'] = 2     # 선의 두께\n",
    "plt.rcParams['lines.color'] = 'red'     # 선의 색깔\n",
    "\n",
    "### Etc. libraries ----------------------------------------------\n",
    "import math\n",
    "from datetime import datetime    # To access datetime \n",
    "# To print multiple output in a cell --------------------------\n",
    "from IPython.core.interactiveshell import InteractiveShell\n",
    "InteractiveShell.ast_node_interactivity = 'all'\n",
    "\n",
    "### *************************************************************\n",
    "import sklearn"
   ]
  },
  {
   "cell_type": "code",
   "execution_count": 17,
   "metadata": {},
   "outputs": [],
   "source": [
    "import json"
   ]
  },
  {
   "cell_type": "code",
   "execution_count": 35,
   "metadata": {},
   "outputs": [],
   "source": [
    "#FILEPATH = \"./20210818080000-10.json\"\n",
    "FILEPATH = \"./20210818080000-11.json\""
   ]
  },
  {
   "cell_type": "code",
   "execution_count": 36,
   "metadata": {},
   "outputs": [],
   "source": [
    "with open(FILEPATH) as json_file:\n",
    "    json_data = json.load(json_file)"
   ]
  },
  {
   "cell_type": "code",
   "execution_count": 37,
   "metadata": {},
   "outputs": [
    {
     "data": {
      "text/plain": [
       "dict"
      ]
     },
     "execution_count": 37,
     "metadata": {},
     "output_type": "execute_result"
    },
    {
     "data": {
      "text/plain": [
       "3"
      ]
     },
     "execution_count": 37,
     "metadata": {},
     "output_type": "execute_result"
    }
   ],
   "source": [
    "type(json_data)\n",
    "len(json_data)"
   ]
  },
  {
   "cell_type": "code",
   "execution_count": 38,
   "metadata": {},
   "outputs": [
    {
     "data": {
      "text/plain": [
       "dict_keys(['images', 'categories', 'annotations'])"
      ]
     },
     "execution_count": 38,
     "metadata": {},
     "output_type": "execute_result"
    },
    {
     "data": {
      "text/plain": [
       "dict_keys(['images', 'categories', 'annotations'])"
      ]
     },
     "execution_count": 38,
     "metadata": {},
     "output_type": "execute_result"
    },
    {
     "data": {
      "text/plain": [
       "'images'"
      ]
     },
     "execution_count": 38,
     "metadata": {},
     "output_type": "execute_result"
    },
    {
     "data": {
      "text/plain": [
       "'images'"
      ]
     },
     "execution_count": 38,
     "metadata": {},
     "output_type": "execute_result"
    }
   ],
   "source": [
    "dict.keys(json_data)\n",
    "json_data.keys()\n",
    "\n",
    "list(dict.keys(json_data))[0]\n",
    "list(json_data.keys())[0]"
   ]
  },
  {
   "cell_type": "code",
   "execution_count": 39,
   "metadata": {
    "collapsed": true,
    "jupyter": {
     "outputs_hidden": true
    },
    "tags": []
   },
   "outputs": [
    {
     "data": {
      "text/plain": [
       "list"
      ]
     },
     "execution_count": 39,
     "metadata": {},
     "output_type": "execute_result"
    },
    {
     "data": {
      "text/plain": [
       "3"
      ]
     },
     "execution_count": 39,
     "metadata": {},
     "output_type": "execute_result"
    },
    {
     "data": {
      "text/plain": [
       "[{'id': 2409402,\n",
       "  'image_id': 275571,\n",
       "  'category_id': 1,\n",
       "  'segmentation': [[1252.0,\n",
       "    483.0,\n",
       "    1252.0,\n",
       "    1124.0,\n",
       "    2127.0,\n",
       "    1124.0,\n",
       "    2127.0,\n",
       "    483.0]],\n",
       "  'area': 560875,\n",
       "  'bbox': [1252.0, 483.0, 875.0, 641.0],\n",
       "  'iscrowd': False,\n",
       "  'isbbox': True,\n",
       "  'color': '#52dd39',\n",
       "  'keypoints': [1369,\n",
       "   740,\n",
       "   1,\n",
       "   1309,\n",
       "   714,\n",
       "   1,\n",
       "   1455,\n",
       "   697,\n",
       "   1,\n",
       "   1344,\n",
       "   671,\n",
       "   1,\n",
       "   1267,\n",
       "   825,\n",
       "   1,\n",
       "   1515,\n",
       "   842,\n",
       "   1,\n",
       "   2070,\n",
       "   526,\n",
       "   1,\n",
       "   1592,\n",
       "   646,\n",
       "   1,\n",
       "   1720,\n",
       "   902,\n",
       "   1,\n",
       "   1643,\n",
       "   945,\n",
       "   1,\n",
       "   2053,\n",
       "   765,\n",
       "   1,\n",
       "   2070,\n",
       "   757,\n",
       "   1,\n",
       "   1686,\n",
       "   1013,\n",
       "   1,\n",
       "   1609,\n",
       "   1005,\n",
       "   1,\n",
       "   2045,\n",
       "   859,\n",
       "   1,\n",
       "   2113,\n",
       "   783,\n",
       "   1,\n",
       "   1677,\n",
       "   1116,\n",
       "   1,\n",
       "   1523,\n",
       "   1048,\n",
       "   1,\n",
       "   2036,\n",
       "   1013,\n",
       "   1,\n",
       "   2036,\n",
       "   988,\n",
       "   1],\n",
       "  'metadata': {'name': 'first'},\n",
       "  'num_keypoints': 20},\n",
       " {'id': 2409403,\n",
       "  'image_id': 275571,\n",
       "  'category_id': 1,\n",
       "  'segmentation': [[494.0, 321.0, 494.0, 631.0, 707.0, 631.0, 707.0, 321.0]],\n",
       "  'area': 66030,\n",
       "  'bbox': [494.0, 321.0, 213.0, 310.0],\n",
       "  'iscrowd': False,\n",
       "  'isbbox': True,\n",
       "  'color': '#de8f07',\n",
       "  'keypoints': [594,\n",
       "   453,\n",
       "   1,\n",
       "   527,\n",
       "   469,\n",
       "   1,\n",
       "   597,\n",
       "   420,\n",
       "   1,\n",
       "   518,\n",
       "   444,\n",
       "   1,\n",
       "   582,\n",
       "   542,\n",
       "   1,\n",
       "   624,\n",
       "   532,\n",
       "   1,\n",
       "   560,\n",
       "   332,\n",
       "   1,\n",
       "   582,\n",
       "   368,\n",
       "   1,\n",
       "   636,\n",
       "   560,\n",
       "   1,\n",
       "   512,\n",
       "   502,\n",
       "   1,\n",
       "   682,\n",
       "   484,\n",
       "   1,\n",
       "   515,\n",
       "   493,\n",
       "   1,\n",
       "   658,\n",
       "   526,\n",
       "   1,\n",
       "   570,\n",
       "   590,\n",
       "   1,\n",
       "   673,\n",
       "   514,\n",
       "   1,\n",
       "   661,\n",
       "   523,\n",
       "   1,\n",
       "   591,\n",
       "   633,\n",
       "   1,\n",
       "   591,\n",
       "   633,\n",
       "   1,\n",
       "   512,\n",
       "   627,\n",
       "   1,\n",
       "   407,\n",
       "   598,\n",
       "   1],\n",
       "  'metadata': {'name': 'second'},\n",
       "  'num_keypoints': 20},\n",
       " {'id': 2409404,\n",
       "  'image_id': 275571,\n",
       "  'category_id': 1,\n",
       "  'segmentation': [[25.7, 1307.4, 25.7, 1645.0, 573.4, 1645.0, 573.4, 1307.4]],\n",
       "  'area': 184886,\n",
       "  'bbox': [26.0, 1307.0, 547.0, 338.0],\n",
       "  'iscrowd': False,\n",
       "  'isbbox': True,\n",
       "  'color': '#67dff5',\n",
       "  'keypoints': [375,\n",
       "   1369,\n",
       "   1,\n",
       "   348,\n",
       "   1425,\n",
       "   1,\n",
       "   270,\n",
       "   1336,\n",
       "   1,\n",
       "   259,\n",
       "   1430,\n",
       "   1,\n",
       "   475,\n",
       "   1469,\n",
       "   1,\n",
       "   320,\n",
       "   1519,\n",
       "   1,\n",
       "   209,\n",
       "   1663,\n",
       "   1,\n",
       "   110,\n",
       "   1469,\n",
       "   1,\n",
       "   348,\n",
       "   1552,\n",
       "   1,\n",
       "   337,\n",
       "   1552,\n",
       "   1,\n",
       "   320,\n",
       "   1646,\n",
       "   1,\n",
       "   320,\n",
       "   1641,\n",
       "   1,\n",
       "   469,\n",
       "   1552,\n",
       "   1,\n",
       "   458,\n",
       "   1558,\n",
       "   1,\n",
       "   436,\n",
       "   1558,\n",
       "   1,\n",
       "   458,\n",
       "   1558,\n",
       "   1,\n",
       "   552,\n",
       "   1547,\n",
       "   1,\n",
       "   547,\n",
       "   1547,\n",
       "   1,\n",
       "   541,\n",
       "   1602,\n",
       "   1,\n",
       "   525,\n",
       "   1558,\n",
       "   1],\n",
       "  'metadata': {'name': 'third'},\n",
       "  'num_keypoints': 20}]"
      ]
     },
     "execution_count": 39,
     "metadata": {},
     "output_type": "execute_result"
    }
   ],
   "source": [
    "type(json_data['annotations'])\n",
    "len(json_data['annotations'])\n",
    "json_data['annotations']"
   ]
  },
  {
   "cell_type": "code",
   "execution_count": 47,
   "metadata": {},
   "outputs": [
    {
     "name": "stdout",
     "output_type": "stream",
     "text": [
      "[[1252.0, 483.0, 1252.0, 1124.0, 2127.0, 1124.0, 2127.0, 483.0]]\n",
      "[[494.0, 321.0, 494.0, 631.0, 707.0, 631.0, 707.0, 321.0]]\n",
      "[[25.7, 1307.4, 25.7, 1645.0, 573.4, 1645.0, 573.4, 1307.4]]\n"
     ]
    },
    {
     "data": {
      "text/plain": [
       "[None, None, None]"
      ]
     },
     "execution_count": 47,
     "metadata": {},
     "output_type": "execute_result"
    }
   ],
   "source": [
    "[print(i['segmentation']) for i in json_data['annotations']]"
   ]
  },
  {
   "cell_type": "code",
   "execution_count": 56,
   "metadata": {},
   "outputs": [],
   "source": [
    "lol=np.array([i for i in json_data['annotations']])"
   ]
  },
  {
   "cell_type": "code",
   "execution_count": 57,
   "metadata": {},
   "outputs": [
    {
     "data": {
      "text/plain": [
       "array([{'id': 2409402, 'image_id': 275571, 'category_id': 1, 'segmentation': [[1252.0, 483.0, 1252.0, 1124.0, 2127.0, 1124.0, 2127.0, 483.0]], 'area': 560875, 'bbox': [1252.0, 483.0, 875.0, 641.0], 'iscrowd': False, 'isbbox': True, 'color': '#52dd39', 'keypoints': [1369, 740, 1, 1309, 714, 1, 1455, 697, 1, 1344, 671, 1, 1267, 825, 1, 1515, 842, 1, 2070, 526, 1, 1592, 646, 1, 1720, 902, 1, 1643, 945, 1, 2053, 765, 1, 2070, 757, 1, 1686, 1013, 1, 1609, 1005, 1, 2045, 859, 1, 2113, 783, 1, 1677, 1116, 1, 1523, 1048, 1, 2036, 1013, 1, 2036, 988, 1], 'metadata': {'name': 'first'}, 'num_keypoints': 20},\n",
       "       {'id': 2409403, 'image_id': 275571, 'category_id': 1, 'segmentation': [[494.0, 321.0, 494.0, 631.0, 707.0, 631.0, 707.0, 321.0]], 'area': 66030, 'bbox': [494.0, 321.0, 213.0, 310.0], 'iscrowd': False, 'isbbox': True, 'color': '#de8f07', 'keypoints': [594, 453, 1, 527, 469, 1, 597, 420, 1, 518, 444, 1, 582, 542, 1, 624, 532, 1, 560, 332, 1, 582, 368, 1, 636, 560, 1, 512, 502, 1, 682, 484, 1, 515, 493, 1, 658, 526, 1, 570, 590, 1, 673, 514, 1, 661, 523, 1, 591, 633, 1, 591, 633, 1, 512, 627, 1, 407, 598, 1], 'metadata': {'name': 'second'}, 'num_keypoints': 20},\n",
       "       {'id': 2409404, 'image_id': 275571, 'category_id': 1, 'segmentation': [[25.7, 1307.4, 25.7, 1645.0, 573.4, 1645.0, 573.4, 1307.4]], 'area': 184886, 'bbox': [26.0, 1307.0, 547.0, 338.0], 'iscrowd': False, 'isbbox': True, 'color': '#67dff5', 'keypoints': [375, 1369, 1, 348, 1425, 1, 270, 1336, 1, 259, 1430, 1, 475, 1469, 1, 320, 1519, 1, 209, 1663, 1, 110, 1469, 1, 348, 1552, 1, 337, 1552, 1, 320, 1646, 1, 320, 1641, 1, 469, 1552, 1, 458, 1558, 1, 436, 1558, 1, 458, 1558, 1, 552, 1547, 1, 547, 1547, 1, 541, 1602, 1, 525, 1558, 1], 'metadata': {'name': 'third'}, 'num_keypoints': 20}],\n",
       "      dtype=object)"
      ]
     },
     "execution_count": 57,
     "metadata": {},
     "output_type": "execute_result"
    }
   ],
   "source": [
    "lol.flatten()"
   ]
  },
  {
   "cell_type": "code",
   "execution_count": null,
   "metadata": {},
   "outputs": [],
   "source": []
  }
 ],
 "metadata": {
  "kernelspec": {
   "display_name": "Python 3",
   "language": "python",
   "name": "python3"
  },
  "language_info": {
   "codemirror_mode": {
    "name": "ipython",
    "version": 3
   },
   "file_extension": ".py",
   "mimetype": "text/x-python",
   "name": "python",
   "nbconvert_exporter": "python",
   "pygments_lexer": "ipython3",
   "version": "3.6.9"
  }
 },
 "nbformat": 4,
 "nbformat_minor": 4
}
